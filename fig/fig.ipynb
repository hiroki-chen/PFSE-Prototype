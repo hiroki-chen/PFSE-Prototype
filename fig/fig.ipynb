{
 "cells": [
  {
   "attachments": {},
   "cell_type": "markdown",
   "metadata": {},
   "source": [
    "# Plot the result of experiment"
   ]
  },
  {
   "cell_type": "code",
   "execution_count": 62,
   "metadata": {},
   "outputs": [],
   "source": [
    "import matplotlib.pyplot as plt\n",
    "import seaborn as sns\n",
    "import numpy as np\n",
    "import toml\n",
    "import os\n",
    "import re\n",
    "\n",
    "def extract_toml_time(file, type, scheme):\n",
    "  try:\n",
    "    content = toml.load(file)\n",
    "    res = {}\n",
    "\n",
    "    for result in content['perf_result']:\n",
    "        config = result['config']\n",
    "        if config['perf_type'] == type and config['fse_type'] == scheme:\n",
    "            time = result['result']['latency']\n",
    "            if 'ms' in time:\n",
    "                time = float(re.sub(r'ms.*', '', time))\n",
    "            elif 's' in time:\n",
    "                time = float(re.sub(r's.*', '', time)) * 1000\n",
    "\n",
    "            column_name = config['attributes'][0]\n",
    "            res[column_name] = []\n",
    "            res[column_name].append(time)\n",
    "        \n",
    "    for k, v in res.items():\n",
    "        v = np.average(v)\n",
    "    return res\n",
    "  except:\n",
    "    raise Exception(\"Extract toml time error!\")\n",
    "\n",
    "\n",
    "def analyze_database_performance(name, type, scheme):\n",
    "    result = []\n",
    "    path = \"../eval/data/\"\n",
    "\n",
    "    for dirname, subdirlist, filelist in os.walk(path):\n",
    "        for fname in filelist:\n",
    "            if name in fname:\n",
    "                print(\"Scanning {}.\".format(fname))\n",
    "                result.append(extract_toml_time(dirname + '/' + fname, type, scheme))\n",
    "\n",
    "    return result"
   ]
  },
  {
   "cell_type": "code",
   "execution_count": 64,
   "metadata": {},
   "outputs": [
    {
     "name": "stdout",
     "output_type": "stream",
     "text": [
      "Scanning perf_2023-01-18T16:57:41.511495+08:00.toml.\n",
      "Scanning perf_2023-01-18T16:57:41.511495+08:00.toml.\n",
      "[{'order_number': [15.012768]}, {'order_number': [45.719958]}]\n"
     ]
    }
   ],
   "source": [
    "res = []\n",
    "res += analyze_database_performance(\"perf_2023-01-18T16:57:41.511495+08:00.toml\", 'query', 'dte')\n",
    "res += analyze_database_performance(\"perf_2023-01-18T16:57:41.511495+08:00.toml\", 'query', 'rnd')\n",
    "print(res)\n"
   ]
  }
 ],
 "metadata": {
  "kernelspec": {
   "display_name": "Python 3",
   "language": "python",
   "name": "python3"
  },
  "language_info": {
   "codemirror_mode": {
    "name": "ipython",
    "version": 3
   },
   "file_extension": ".py",
   "mimetype": "text/x-python",
   "name": "python",
   "nbconvert_exporter": "python",
   "pygments_lexer": "ipython3",
   "version": "3.10.8"
  },
  "orig_nbformat": 4,
  "vscode": {
   "interpreter": {
    "hash": "aee8b7b246df8f9039afb4144a1f6fd8d2ca17a180786b69acc140d282b71a49"
   }
  }
 },
 "nbformat": 4,
 "nbformat_minor": 2
}
